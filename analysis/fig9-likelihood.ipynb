{
 "cells": [
  {
   "cell_type": "markdown",
   "metadata": {},
   "source": [
    "# VIPERS SHAM Project\n",
    "\n",
    "This notebook is part of the VIPERS-SHAM project:\n",
    "http://arxiv.org/abs/xxxxxxx\n",
    "\n",
    "Copyright 2019 by Ben Granett, granett@gmail.com\n",
    "All rights reserved.\n",
    "This file is released under the \"MIT License Agreement\". Please see the LICENSE\n",
    "file that should have been included as part of this package."
   ]
  },
  {
   "cell_type": "code",
   "execution_count": 1,
   "metadata": {},
   "outputs": [],
   "source": [
    "%matplotlib inline\n",
    "import sys\n",
    "import os\n",
    "import logging\n",
    "from matplotlib import pyplot as plt\n",
    "plt.style.use(\"small.style\")\n",
    "from matplotlib.ticker import FormatStrFormatter,ScalarFormatter\n",
    "from matplotlib import colors,cm, ticker\n",
    "\n",
    "import logging\n",
    "logging.basicConfig(level=logging.INFO)\n",
    "\n",
    "import numpy as np\n",
    "from scipy import interpolate, integrate\n",
    "import emcee\n",
    "import progressbar\n",
    "\n",
    "import growthcalc\n",
    "import load\n",
    "import utils\n",
    "import emulator"
   ]
  },
  {
   "cell_type": "code",
   "execution_count": 2,
   "metadata": {},
   "outputs": [],
   "source": [
    "nsteps = 1000\n",
    "samples = ['sdss','L1','L2','L3','L4']\n",
    "redshifts = {'sdss':.06, 'L1':0.6, 'L2':0.7, 'L3':0.8, 'L4':0.9}\n",
    "rmin = 1"
   ]
  },
  {
   "cell_type": "code",
   "execution_count": 3,
   "metadata": {},
   "outputs": [],
   "source": [
    "def decomp(cmat, thresh=.1):\n",
    "    u,s,v = np.linalg.svd(cmat)\n",
    "    cut = np.abs(s).max()*thresh\n",
    "    o = np.abs(s)>cut\n",
    "    s = s[o]\n",
    "    v = v[o]\n",
    "    return s, v"
   ]
  },
  {
   "cell_type": "code",
   "execution_count": 4,
   "metadata": {},
   "outputs": [],
   "source": [
    "r_sdss,wp_sdss,cov_sdss = load.load_sdss()\n",
    "sel = r_sdss > rmin\n",
    "r_sdss = r_sdss[sel]\n",
    "wp_sdss = wp_sdss[sel]\n",
    "cov_sdss = cov_sdss[sel,:][:,sel]\n",
    "\n",
    "s,v = decomp(cov_sdss)\n",
    "\n",
    "data = [(r_sdss, wp_sdss, s, v)]\n",
    "\n",
    "for sample in samples[1:]:\n",
    "    r,wp = np.loadtxt('../data/vipers/wp_sM{sample}.txt'.format(sample=sample[1]), unpack=True)\n",
    "    cmat = np.loadtxt('../data/vipers/cov_{sample}.txt'.format(sample=sample))\n",
    "    sel = r > rmin\n",
    "    r = r[sel]\n",
    "    wp = wp[sel]\n",
    "    cmat = cmat[sel,:][:,sel]\n",
    "    s, v = decomp(cmat)\n",
    "    data.append((r, wp, s, v))"
   ]
  },
  {
   "cell_type": "code",
   "execution_count": 5,
   "metadata": {},
   "outputs": [
    {
     "name": "stderr",
     "output_type": "stream",
     "text": [
      "INFO:root:loaded ../data/sham400/nz_sdss/wp_snap0.53000.txt\n",
      "INFO:root:loaded ../data/sham400/nz_sdss/wp_snap0.62230.txt\n",
      "INFO:root:loaded ../data/sham400/nz_sdss/wp_snap0.66430.txt\n",
      "INFO:root:loaded ../data/sham400/nz_sdss/wp_snap0.71240.txt\n",
      "INFO:root:loaded ../data/sham400/nz_sdss/wp_snap0.77240.txt\n",
      "INFO:root:loaded ../data/sham400/nz_sdss/wp_snap0.83240.txt\n",
      "INFO:root:loaded ../data/sham400/nz_sdss/wp_snap0.90740.txt\n",
      "INFO:root:loaded ../data/sham400/nz_sdss/wp_snap1.00000.txt\n",
      "INFO:root:loaded ../data/sham400/nz_L1/wp_snap0.44200.txt\n",
      "INFO:root:loaded ../data/sham400/nz_L1/wp_snap0.50000.txt\n",
      "INFO:root:loaded ../data/sham400/nz_L1/wp_snap0.53000.txt\n",
      "INFO:root:loaded ../data/sham400/nz_L1/wp_snap0.55630.txt\n",
      "INFO:root:loaded ../data/sham400/nz_L1/wp_snap0.58640.txt\n",
      "INFO:root:loaded ../data/sham400/nz_L1/wp_snap0.62230.txt\n",
      "INFO:root:loaded ../data/sham400/nz_L1/wp_snap0.66430.txt\n",
      "INFO:root:loaded ../data/sham400/nz_L1/wp_snap0.71240.txt\n",
      "INFO:root:loaded ../data/sham400/nz_L1/wp_snap0.77240.txt\n",
      "INFO:root:loaded ../data/sham400/nz_L1/wp_snap0.83240.txt\n",
      "INFO:root:loaded ../data/sham400/nz_L1/wp_snap0.90740.txt\n",
      "INFO:root:loaded ../data/sham400/nz_L2/wp_snap0.44200.txt\n",
      "INFO:root:loaded ../data/sham400/nz_L2/wp_snap0.50000.txt\n",
      "INFO:root:loaded ../data/sham400/nz_L2/wp_snap0.53000.txt\n",
      "INFO:root:loaded ../data/sham400/nz_L2/wp_snap0.55630.txt\n",
      "INFO:root:loaded ../data/sham400/nz_L2/wp_snap0.58640.txt\n",
      "INFO:root:loaded ../data/sham400/nz_L2/wp_snap0.62230.txt\n",
      "INFO:root:loaded ../data/sham400/nz_L2/wp_snap0.66430.txt\n",
      "INFO:root:loaded ../data/sham400/nz_L2/wp_snap0.71240.txt\n",
      "INFO:root:loaded ../data/sham400/nz_L2/wp_snap0.77240.txt\n",
      "INFO:root:loaded ../data/sham400/nz_L2/wp_snap0.90740.txt\n",
      "INFO:root:loaded ../data/sham400/nz_L2/wp_snap1.00000.txt\n",
      "INFO:root:loaded ../data/sham400/nz_L3/wp_snap0.44200.txt\n",
      "INFO:root:loaded ../data/sham400/nz_L3/wp_snap0.50000.txt\n",
      "INFO:root:loaded ../data/sham400/nz_L3/wp_snap0.53000.txt\n",
      "INFO:root:loaded ../data/sham400/nz_L3/wp_snap0.55630.txt\n",
      "INFO:root:loaded ../data/sham400/nz_L3/wp_snap0.58640.txt\n",
      "INFO:root:loaded ../data/sham400/nz_L3/wp_snap0.62230.txt\n",
      "INFO:root:loaded ../data/sham400/nz_L3/wp_snap0.66430.txt\n",
      "INFO:root:loaded ../data/sham400/nz_L3/wp_snap0.71240.txt\n",
      "INFO:root:loaded ../data/sham400/nz_L3/wp_snap0.77240.txt\n",
      "INFO:root:loaded ../data/sham400/nz_L3/wp_snap0.83240.txt\n",
      "INFO:root:loaded ../data/sham400/nz_L3/wp_snap0.90740.txt\n",
      "INFO:root:loaded ../data/sham400/nz_L3/wp_snap1.00000.txt\n",
      "INFO:root:loaded ../data/sham400/nz_L4/wp_snap0.44200.txt\n",
      "INFO:root:loaded ../data/sham400/nz_L4/wp_snap0.50000.txt\n",
      "INFO:root:loaded ../data/sham400/nz_L4/wp_snap0.53000.txt\n",
      "INFO:root:loaded ../data/sham400/nz_L4/wp_snap0.55630.txt\n",
      "INFO:root:loaded ../data/sham400/nz_L4/wp_snap0.58640.txt\n",
      "INFO:root:loaded ../data/sham400/nz_L4/wp_snap0.62230.txt\n",
      "INFO:root:loaded ../data/sham400/nz_L4/wp_snap0.66430.txt\n",
      "INFO:root:loaded ../data/sham400/nz_L4/wp_snap0.71240.txt\n",
      "INFO:root:loaded ../data/sham400/nz_L4/wp_snap0.77240.txt\n",
      "INFO:root:loaded ../data/sham400/nz_L4/wp_snap0.83240.txt\n",
      "INFO:root:loaded ../data/sham400/nz_L4/wp_snap0.90740.txt\n",
      "INFO:root:loaded ../data/sham400/nz_L4/wp_snap1.00000.txt\n"
     ]
    }
   ],
   "source": [
    "shamdata = {}\n",
    "for sample in ['sdss','L1','L2','L3','L4']:\n",
    "    sham = load.load_sham(sample=sample, template=\"../data/sham400/nz_{sample}/wp_snap{snapshot:7.5f}.txt\")\n",
    "    snapshots = sham.keys()\n",
    "    snapshots.sort()\n",
    "    for key in snapshots:\n",
    "        r, wp = sham[key]\n",
    "        sel = r > 1\n",
    "        r = r[sel]\n",
    "        wp = wp[sel]\n",
    "        if not sample in shamdata:\n",
    "            shamdata[sample] = []\n",
    "        shamdata[sample].append((key, r, wp))"
   ]
  },
  {
   "cell_type": "code",
   "execution_count": 6,
   "metadata": {},
   "outputs": [
    {
     "name": "stderr",
     "output_type": "stream",
     "text": [
      "INFO:root:growth range -0.452318 5.000000\n",
      "INFO:root:growth sig8 0.822800\n"
     ]
    }
   ],
   "source": [
    "a_samples = []\n",
    "interpolators = []\n",
    "for key in samples:\n",
    "    y = []\n",
    "    x = []\n",
    "    for a,r,w in shamdata[key]:\n",
    "        sel = r > 1\n",
    "        r = r[sel]\n",
    "        y.append(w[sel])\n",
    "        x.append(a)\n",
    "    y = np.array(y)\n",
    "    x = np.array(x)\n",
    "    f = emulator.WpInterpolator(x, r, y)\n",
    "    interpolators.append(f)\n",
    "    a_samples.append(1./(1+redshifts[key]))\n",
    "a_samples = np.array(a_samples)\n",
    "emu = emulator.Emulator(a_samples, interpolators)"
   ]
  },
  {
   "cell_type": "code",
   "execution_count": 7,
   "metadata": {},
   "outputs": [],
   "source": [
    "def conf_interval(x, y, p=0.68, alpha = 0.99):\n",
    "    \"\"\" \"\"\"\n",
    "    best = y.argmax()\n",
    "    x0 = x[best]\n",
    "    ybest = y[best]\n",
    "\n",
    "    h = ybest\n",
    "    t = np.sum(y)*p\n",
    "    \n",
    "    while np.sum(y[y>h]) < t:\n",
    "        h *= alpha\n",
    "\n",
    "    s = x[np.where(y>h)]\n",
    "    low = s[0]\n",
    "    high = s[-1]\n",
    "    \n",
    "    return x0, x0-low, high-x0"
   ]
  },
  {
   "cell_type": "code",
   "execution_count": 8,
   "metadata": {},
   "outputs": [],
   "source": [
    "def loglike(p, emu, data):\n",
    "    \"\"\" \"\"\"\n",
    "    sig8, gamma = p\n",
    "    if gamma < -5:\n",
    "        return -np.infty\n",
    "    if gamma > 5:\n",
    "        return -np.infty\n",
    "    if sig8 < 0:\n",
    "        return -np.infty\n",
    "\n",
    "    try:\n",
    "        model = emu(gamma, sig8)\n",
    "    except ValueError:\n",
    "        return -np.infty\n",
    "    \n",
    "    assert len(model) == len(data)\n",
    "    \n",
    "    chi2 = 0\n",
    "    for i in range(len(data)):\n",
    "        r,wp,s,v = data[i]\n",
    "        rsham, wsham = model[i]\n",
    "        d = np.dot(v, wp - wsham)\n",
    "        chi2 += np.sum(d**2 / s)\n",
    "        \n",
    "    return -chi2/2.\n",
    "\n",
    "def loglike_gamma(p, emu, data):\n",
    "    \"\"\" \"\"\"\n",
    "    gamma = p\n",
    "    if gamma < -5:\n",
    "        return -np.infty\n",
    "    if gamma > 5:\n",
    "        return -np.infty\n",
    "    \n",
    "    try:\n",
    "        model = emu(gamma, None)\n",
    "    except ValueError:\n",
    "        return -np.infty\n",
    "\n",
    "    assert len(model) == len(data)\n",
    "    \n",
    "    chi2 = 0\n",
    "    for i in range(len(data)):\n",
    "        r,wp,s,v = data[i]\n",
    "        rsham, wsham = model[i]\n",
    "        d = np.dot(v, wp - wsham)\n",
    "        chi2 += np.sum(d**2 / s)\n",
    "        \n",
    "    return -chi2/2.\n",
    "\n",
    "\n",
    "def loglike_s8(p, emu, data):\n",
    "    \"\"\" \"\"\"\n",
    "    s8 = p\n",
    "    try:\n",
    "        model = emu(None, s8)\n",
    "    except ValueError:\n",
    "        return -np.infty\n",
    "\n",
    "    assert len(model) == len(data)\n",
    "    \n",
    "    chi2 = 0\n",
    "    for i in range(len(data)):\n",
    "        r,wp,s,v = data[i]\n",
    "        rsham, wsham = model[i]\n",
    "        d = np.dot(v, wp - wsham)\n",
    "        chi2 += np.sum(d**2 / s)\n",
    "        \n",
    "    return -chi2/2.\n"
   ]
  },
  {
   "cell_type": "code",
   "execution_count": 9,
   "metadata": {},
   "outputs": [],
   "source": [
    "def run_chain(sampler, p0, nsteps=1000):\n",
    "    \"\"\" \"\"\"\n",
    "    bar = progressbar.ProgressBar(max_value=nsteps)\n",
    "    for i, result in enumerate(sampler.sample(p0, iterations=nsteps)):\n",
    "        bar.update(i)\n",
    "    return result"
   ]
  },
  {
   "cell_type": "code",
   "execution_count": 10,
   "metadata": {},
   "outputs": [
    {
     "name": "stderr",
     "output_type": "stream",
     "text": [
      " 99% (999 of 1000) |#################### | Elapsed Time: 0:02:31 ETA:   0:00:00"
     ]
    }
   ],
   "source": [
    "ndim, nwalkers = 2, 100\n",
    "p0 = np.random.normal(0, 0.01, (nwalkers,ndim)) + np.array([0.8, 0.55])\n",
    "\n",
    "sampler = emcee.EnsembleSampler(nwalkers, ndim, loglike, args=[emu, data])\n",
    "\n",
    "pos, prob, state = run_chain(sampler, p0, 100)\n",
    "\n",
    "sampler.reset()\n",
    "\n",
    "pos, prob, state = run_chain(sampler, pos, nsteps)"
   ]
  },
  {
   "cell_type": "code",
   "execution_count": 11,
   "metadata": {},
   "outputs": [
    {
     "name": "stderr",
     "output_type": "stream",
     "text": [
      "100% (2000 of 2000) |####################| Elapsed Time: 0:00:02 Time:  0:00:02\n"
     ]
    }
   ],
   "source": [
    "gamma = np.linspace(-1,2.5,2000)\n",
    "ll = np.zeros(len(gamma))\n",
    "bar = progressbar.ProgressBar()\n",
    "for i in bar(range(len(gamma))):\n",
    "    ll[i] = loglike_gamma(gamma[i], emu, data)\n",
    "ll = np.exp(np.array(ll))\n",
    "ll = ll / np.sum(ll) / (gamma[1]-gamma[0])"
   ]
  },
  {
   "cell_type": "code",
   "execution_count": 12,
   "metadata": {},
   "outputs": [
    {
     "name": "stdout",
     "output_type": "stream",
     "text": [
      "0.5740370185092547 0.24862431215607805 0.31165582791395696\n",
      "0.5740370185092547 0.2819072575048547\n"
     ]
    }
   ],
   "source": [
    "a,b,c = conf_interval(gamma, ll)\n",
    "print a,b,c\n",
    "print a, np.sqrt((b**2+c**2)/2.)"
   ]
  },
  {
   "cell_type": "code",
   "execution_count": 13,
   "metadata": {},
   "outputs": [
    {
     "name": "stderr",
     "output_type": "stream",
     "text": [
      "100% (2000 of 2000) |####################| Elapsed Time: 0:00:02 Time:  0:00:02\n"
     ]
    }
   ],
   "source": [
    "sig8 = np.linspace(0.5,1.2, 2000)\n",
    "ll_s8 = np.zeros(len(sig8))\n",
    "bar = progressbar.ProgressBar()\n",
    "for i in bar(range(len(sig8))):\n",
    "    ll_s8[i] = loglike_s8(sig8[i], emu, data)\n",
    "ll_s8 = np.exp(np.array(ll_s8))\n",
    "ll_s8 = ll_s8 / np.sum(ll_s8) / (sig8[1]-sig8[0])"
   ]
  },
  {
   "cell_type": "code",
   "execution_count": 14,
   "metadata": {},
   "outputs": [
    {
     "name": "stdout",
     "output_type": "stream",
     "text": [
      "0.8491245622811405 0.04272136068034016 0.0406203101550775\n",
      "0.8491245622811405 0.04168407522948306\n"
     ]
    }
   ],
   "source": [
    "a,b,c = conf_interval(sig8, ll_s8)\n",
    "print a,b,c\n",
    "print a, np.sqrt((b**2+c**2)/2.)"
   ]
  },
  {
   "cell_type": "code",
   "execution_count": 15,
   "metadata": {},
   "outputs": [],
   "source": [
    "def plot_lim(ax, t, g, s):\n",
    "    t = np.array(t,dtype='d')\n",
    "    xx = []\n",
    "    yy = []\n",
    "    for i,c in enumerate(t):\n",
    "        k = c.searchsorted(1)\n",
    "        if k > 0 and k < len(s):\n",
    "            yy.append(s[k])\n",
    "            xx.append(g[i])\n",
    "    ax.plot(xx,yy, c='k', dashes=[1,1,1,1])"
   ]
  },
  {
   "cell_type": "code",
   "execution_count": 16,
   "metadata": {},
   "outputs": [
    {
     "name": "stdout",
     "output_type": "stream",
     "text": [
      "gamma (0.5740370185092547, 0.24862431215607805, 0.31165582791395696)\n",
      "sig8 (0.8491245622811405, 0.04272136068034016, 0.0406203101550775)\n"
     ]
    },
    {
     "data": {
      "image/png": "[encoded data removed]",
      "text/plain": [
       "<Figure size 302.4x288 with 3 Axes>"
      ]
     },
     "metadata": {
      "needs_background": "light"
     },
     "output_type": "display_data"
    }
   ],
   "source": [
    "from matplotlib import gridspec\n",
    "\n",
    "bins = (\n",
    "    np.linspace(0.7, 1.02, 20),\n",
    "    np.linspace(-0.5, 1.5, 20)\n",
    ")\n",
    "ext = [bins[1][0],bins[1][-1],bins[0][0],bins[0][-1]]\n",
    "h, ex, ey = np.histogram2d(*sampler.flatchain.T, bins=bins)\n",
    "h = h.T\n",
    "\n",
    "\n",
    "h_sig,e_s = np.histogram(sampler.flatchain.T[0], bins=bins[0], density=True)\n",
    "h_gam,e_g = np.histogram(sampler.flatchain.T[1], bins=bins[1], density=True)\n",
    "\n",
    "\n",
    "levels = utils.lowerwater(h, (0.866, 0.395))\n",
    "a = (ey[1]-ey[0])/(ex[1]-ex[0])\n",
    "\n",
    "fig = plt.figure(figsize=(4.2,4))\n",
    "\n",
    "gs = gridspec.GridSpec(2, 2)\n",
    "gs.update(right=0.9, top=0.9, hspace=0,wspace=0)\n",
    "\n",
    "ax1 = plt.subplot(gs[1,0])\n",
    "ax2 = plt.subplot(gs[0,0])\n",
    "ax3 = plt.subplot(gs[1,1])\n",
    "\n",
    "\n",
    "g = np.linspace(-0.5,1.5,200)\n",
    "s = np.linspace(0.5,1.2,200)\n",
    "zmin,zmax = emu.check_bounds(g,s)\n",
    "plot_lim(ax1, zmin<-0.3, g, s)\n",
    "plot_lim(ax1, zmax<1.5, g, s)\n",
    "ax1.text(-0.2,0.78,\"$z>1.5$\", rotation=-65)\n",
    "ax1.text(0.8,0.99,\"$z<-0.3$\", rotation=-5)\n",
    "\n",
    "ax1.contour(h.T, levels=levels, colors='k', extent=ext, origin='lower')\n",
    "ax1.axvline(0.55, dashes=[3,1,1,1], c='firebrick')\n",
    "ax1.axhline(0.82, dashes=[4,1], c='navy')\n",
    "\n",
    "ax1.set_xlim(ext[0],ext[1])\n",
    "ax1.set_ylim(ext[2],ext[3])\n",
    "\n",
    "\n",
    "ax2.plot((e_g[1:]+e_g[:-1])/2., h_gam, c='k')\n",
    "ax2.plot(gamma, ll, c='navy', dashes=[4,1])\n",
    "print \"gamma\", conf_interval(gamma, ll)\n",
    "\n",
    "ax2.set_xlim(ext[0],ext[1])\n",
    "\n",
    "ax3.plot(h_sig, (e_s[1:]+e_s[:-1])/2., c='k')\n",
    "ax3.plot(ll_s8, sig8, c='firebrick', dashes=[3,1,1,1])\n",
    "\n",
    "print \"sig8\", conf_interval(sig8, ll_s8)\n",
    "\n",
    "ax3.set_ylim(ext[2],ext[3])\n",
    "\n",
    "plt.setp(ax2.get_xticklabels(), visible=False)\n",
    "plt.setp(ax2.get_yticklabels(), visible=False)\n",
    "plt.setp(ax3.get_xticklabels(), visible=False)\n",
    "\n",
    "ax2.xaxis.tick_top()\n",
    "ax3.yaxis.tick_right()\n",
    "\n",
    "ax1.set_ylabel(\"$\\sigma_8$\")\n",
    "ax1.set_xlabel(\"$\\gamma$\")\n",
    "\n",
    "ax1.text(0.55, 0.7, \"0.55\", rotation=90, va='bottom', ha='right', color='firebrick')\n",
    "ax1.text(1.5,0.82, \"0.82\", va='bottom', ha='right', color='navy')\n",
    "\n",
    "ax1.yaxis.set_minor_locator(ticker.MultipleLocator(0.01))\n",
    "ax3.yaxis.set_minor_locator(ticker.MultipleLocator(0.01))\n",
    "ax1.xaxis.set_minor_locator(ticker.MultipleLocator(0.2))\n",
    "ax2.xaxis.set_minor_locator(ticker.MultipleLocator(0.2))\n",
    "\n",
    "plt.savefig(\"../figs/fig9.pdf\")"
   ]
  },
  {
   "cell_type": "code",
   "execution_count": null,
   "metadata": {},
   "outputs": [],
   "source": []
  }
 ],
 "metadata": {
  "kernelspec": {
   "display_name": "Python 2",
   "language": "python",
   "name": "python2"
  },
  "language_info": {
   "codemirror_mode": {
    "name": "ipython",
    "version": 2
   },
   "file_extension": ".py",
   "mimetype": "text/x-python",
   "name": "python",
   "nbconvert_exporter": "python",
   "pygments_lexer": "ipython2",
   "version": "2.7.13"
  }
 },
 "nbformat": 4,
 "nbformat_minor": 2
}
