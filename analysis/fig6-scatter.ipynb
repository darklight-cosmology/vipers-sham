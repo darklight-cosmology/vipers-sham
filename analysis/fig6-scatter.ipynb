{
 "cells": [
  {
   "cell_type": "markdown",
   "metadata": {},
   "source": [
    "# VIPERS SHAM Project\n",
    "\n",
    "This notebook is part of the VIPERS-SHAM project:\n",
    "http://arxiv.org/abs/xxxxxxx\n",
    "\n",
    "Copyright 2019 by Ben Granett, granett@gmail.com\n",
    "All rights reserved.\n",
    "This file is released under the \"MIT License Agreement\". Please see the LICENSE\n",
    "file that should have been included as part of this package."
   ]
  },
  {
   "cell_type": "code",
   "execution_count": 1,
   "metadata": {},
   "outputs": [],
   "source": [
    "%matplotlib inline\n",
    "import os\n",
    "from matplotlib import pyplot as plt\n",
    "plt.style.use(\"small.style\")\n",
    "from matplotlib.ticker import FormatStrFormatter,ScalarFormatter\n",
    "from matplotlib import colors,cm,ticker,transforms\n",
    "\n",
    "\n",
    "import logging\n",
    "logging.basicConfig(level=logging.INFO)\n",
    "\n",
    "\n",
    "import numpy as np\n",
    "\n",
    "import load"
   ]
  },
  {
   "cell_type": "code",
   "execution_count": 2,
   "metadata": {},
   "outputs": [],
   "source": [
    "samples = ('M1','M4')"
   ]
  },
  {
   "cell_type": "code",
   "execution_count": 3,
   "metadata": {},
   "outputs": [],
   "source": [
    "def get_vipers(sample='A', **plotparams):\n",
    "    \"\"\" \"\"\"\n",
    "    path = \"../data/vipers/wp_s{sample}.txt\".format(sample=sample)\n",
    "    try:\n",
    "        rp, w = np.loadtxt(path, unpack=True)\n",
    "    except IOError:\n",
    "        print \"can't load\", path\n",
    "        return None, None\n",
    "    \n",
    "    path = \"../data/vipers/cov_L{sample}.txt\".format(sample=sample[1])\n",
    "    try:\n",
    "        cmat = np.loadtxt(path)\n",
    "    except IOError:\n",
    "        print \"can't load\", path\n",
    "    sigma = cmat.diagonal()**.5\n",
    "    \n",
    "    return rp, w, sigma"
   ]
  },
  {
   "cell_type": "code",
   "execution_count": 4,
   "metadata": {},
   "outputs": [
    {
     "data": {
      "image/png": "[encoded data removed]",
      "text/plain": [
       "<Figure size 288x432 with 2 Axes>"
      ]
     },
     "metadata": {
      "needs_background": "light"
     },
     "output_type": "display_data"
    }
   ],
   "source": [
    "plt.figure(figsize=(4,6))\n",
    "ax0 = plt.subplot(211)\n",
    "plt.text(0.05,0.95,\"M1\",ha='left',va='top',transform=ax0.transAxes, fontsize=16)\n",
    "    \n",
    "    \n",
    "r,w,sig = get_vipers('M1')\n",
    "\n",
    "xref,yref = np.loadtxt(\"../data/sham400/nz_L1/wp_snap0.62230.txt\", unpack=True)\n",
    "plt.errorbar(xref,w/yref, sig/yref, c='k', marker=\"*\", ls='None')\n",
    "\n",
    "x,y = np.loadtxt(\"../data/sham400/nz_v1/wp_snap0.62230_M1_scattv01.dat\", unpack=True)\n",
    "plt.semilogx(x,y/yref,dashes=[4,1], label=\"$\\sigma_{\\log V} = 0.1$\")\n",
    "\n",
    "x,y = np.loadtxt(\"../data/sham400/nz_m1/wp_snap0.62230_M1_scatt01.dat\", unpack=True)\n",
    "plt.semilogx(x,y/yref, dashes=[4,2,2,2], label=\"$\\sigma_{\\log M} = 0.1$\", c='firebrick')\n",
    "\n",
    "plt.grid()\n",
    "plt.ylim(0.6,1.4)\n",
    "\n",
    "ax0.tick_params(labelbottom=False)\n",
    "\n",
    "plt.legend(loc='lower center')\n",
    "plt.ylabel(\"$w_p^{\\\\rm scatter}/w_p$\")\n",
    "\n",
    "ax1 = plt.subplot(212)\n",
    "plt.text(0.05,0.95,\"M4\",ha='left',va='top',transform=ax1.transAxes, fontsize=16)\n",
    "\n",
    "\n",
    "\n",
    "r,w,sig = get_vipers('M4')\n",
    "\n",
    "xref,yref = np.loadtxt(\"../data/sham400/nz_L4/wp_snap0.53000.txt\", unpack=True)\n",
    "plt.errorbar(xref,w/yref, sig/yref, c='k', marker=\"*\", ls='None')\n",
    "\n",
    "x,y = np.loadtxt(\"../data/sham400/nz_v4/wp_snap0.53000_M4_scattv01.dat\", unpack=True)\n",
    "plt.semilogx(x,y/yref, dashes=[4,1])\n",
    "\n",
    "x,y = np.loadtxt(\"../data/sham400/nz_m4/wp_snap0.53000_M4_scatt01.dat\", unpack=True)\n",
    "plt.semilogx(x,y/yref, dashes=[4,2,2,2], c='firebrick')\n",
    "\n",
    "plt.grid()\n",
    "\n",
    "plt.ylim(0.6,1.39)\n",
    "\n",
    "plt.xlabel(\"$r_p\\ \\ (h^{-1}Mpc)$\")\n",
    "plt.ylabel(\"$w_p^{\\\\rm scatter}/w_p$\")\n",
    "\n",
    "plt.subplots_adjust(hspace=0)\n",
    "\n",
    "plt.savefig(\"../figs/fig6.pdf\")"
   ]
  }
 ],
 "metadata": {
  "kernelspec": {
   "display_name": "Python 2",
   "language": "python",
   "name": "python2"
  },
  "language_info": {
   "codemirror_mode": {
    "name": "ipython",
    "version": 2
   },
   "file_extension": ".py",
   "mimetype": "text/x-python",
   "name": "python",
   "nbconvert_exporter": "python",
   "pygments_lexer": "ipython2",
   "version": "2.7.13"
  }
 },
 "nbformat": 4,
 "nbformat_minor": 2
}
